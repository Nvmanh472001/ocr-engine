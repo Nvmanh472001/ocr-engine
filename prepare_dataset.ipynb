{
 "cells": [
  {
   "cell_type": "code",
   "execution_count": 1,
   "metadata": {},
   "outputs": [
    {
     "data": {
      "text/plain": [
       "{'Global': {'debug': False,\n",
       "  'use_gpu': True,\n",
       "  'epoch_num': 500,\n",
       "  'log_smooth_window': 20,\n",
       "  'print_batch_step': 10,\n",
       "  'save_model_dir': './output/ch_PP-OCR_V3_det/',\n",
       "  'save_epoch_step': 100,\n",
       "  'eval_batch_step': [0, 400],\n",
       "  'cal_metric_during_train': False,\n",
       "  'pretrained_model': None,\n",
       "  'checkpoints': './ckpts/detection.pth',\n",
       "  'save_inference_dir': None,\n",
       "  'use_visualdl': False,\n",
       "  'infer_img': 'doc/imgs_en/img_10.jpg',\n",
       "  'save_res_path': './checkpoints/det_db/predicts_db.txt',\n",
       "  'distributed': False},\n",
       " 'Architecture': {'model_type': 'det',\n",
       "  'algorithm': 'DB',\n",
       "  'Transform': None,\n",
       "  'Backbone': {'name': 'MobileNetV3',\n",
       "   'scale': 0.5,\n",
       "   'model_name': 'large',\n",
       "   'disable_se': True},\n",
       "  'Neck': {'name': 'RSEFPN', 'out_channels': 96, 'shortcut': True},\n",
       "  'Head': {'name': 'DBHead', 'k': 50}},\n",
       " 'Loss': {'name': 'DBLoss',\n",
       "  'balance_loss': True,\n",
       "  'main_loss_type': 'DiceLoss',\n",
       "  'alpha': 5,\n",
       "  'beta': 10,\n",
       "  'ohem_ratio': 3},\n",
       " 'Optimizer': {'name': 'Adam',\n",
       "  'beta1': 0.9,\n",
       "  'beta2': 0.999,\n",
       "  'lr': {'name': 'Cosine', 'learning_rate': 0.001, 'warmup_epoch': 2},\n",
       "  'regularizer': {'name': 'L2', 'factor': 5e-05}},\n",
       " 'PostProcess': {'name': 'DBPostProcess',\n",
       "  'thresh': 0.3,\n",
       "  'box_thresh': 0.6,\n",
       "  'max_candidates': 1000,\n",
       "  'unclip_ratio': 1.5},\n",
       " 'Metric': {'name': 'DetMetric', 'main_indicator': 'hmean'},\n",
       " 'Train': {'dataset': {'name': 'SimpleDataSet',\n",
       "   'data_dir': './dataset/icdar2015/text_localization/',\n",
       "   'label_file_list': ['./dataset/icdar2015/text_localization/train_icdar2015_label.txt'],\n",
       "   'ratio_list': [1.0],\n",
       "   'transforms': [{'DecodeImage': {'img_mode': 'BGR', 'channel_first': False}},\n",
       "    {'DetLabelEncode': None},\n",
       "    {'IaaAugment': {'augmenter_args': [{'type': 'Fliplr', 'args': {'p': 0.5}},\n",
       "       {'type': 'Affine', 'args': {'rotate': [-10, 10]}},\n",
       "       {'type': 'Resize', 'args': {'size': [0.5, 3]}}]}},\n",
       "    {'EastRandomCropData': {'size': [960, 960],\n",
       "      'max_tries': 50,\n",
       "      'keep_ratio': True}},\n",
       "    {'MakeBorderMap': {'shrink_ratio': 0.4,\n",
       "      'thresh_min': 0.3,\n",
       "      'thresh_max': 0.7}},\n",
       "    {'MakeShrinkMap': {'shrink_ratio': 0.4, 'min_text_size': 8}},\n",
       "    {'NormalizeImage': {'scale': '1./255.',\n",
       "      'mean': [0.485, 0.456, 0.406],\n",
       "      'std': [0.229, 0.224, 0.225],\n",
       "      'order': 'hwc'}},\n",
       "    {'ToCHWImage': None},\n",
       "    {'KeepKeys': {'keep_keys': ['image',\n",
       "       'threshold_map',\n",
       "       'threshold_mask',\n",
       "       'shrink_map',\n",
       "       'shrink_mask']}}]},\n",
       "  'loader': {'shuffle': True,\n",
       "   'drop_last': False,\n",
       "   'batch_size_per_card': 8,\n",
       "   'num_workers': 4}},\n",
       " 'Eval': {'dataset': {'name': 'SimpleDataSet',\n",
       "   'data_dir': './dataset/icdar2015/text_localization/',\n",
       "   'label_file_list': ['./dataset/icdar2015/text_localization/test_icdar2015_label.txt'],\n",
       "   'transforms': [{'DecodeImage': {'img_mode': 'BGR', 'channel_first': False}},\n",
       "    {'DetLabelEncode': None},\n",
       "    {'DetResizeForTest': None},\n",
       "    {'NormalizeImage': {'scale': '1./255.',\n",
       "      'mean': [0.485, 0.456, 0.406],\n",
       "      'std': [0.229, 0.224, 0.225],\n",
       "      'order': 'hwc'}},\n",
       "    {'ToCHWImage': None},\n",
       "    {'KeepKeys': {'keep_keys': ['image', 'shape', 'polys', 'ignore_tags']}}]},\n",
       "  'loader': {'shuffle': False,\n",
       "   'drop_last': False,\n",
       "   'batch_size_per_card': 1,\n",
       "   'num_workers': 2}},\n",
       " 'filename': 'PP-OCRv3_det'}"
      ]
     },
     "execution_count": 1,
     "metadata": {},
     "output_type": "execute_result"
    }
   ],
   "source": [
    "from tools.utility import Config\n",
    "config_path = \"./configs/det/PP-OCRv3_det.yml\"\n",
    "config = Config(config_path).cfg\n",
    "config"
   ]
  },
  {
   "cell_type": "code",
   "execution_count": 2,
   "metadata": {},
   "outputs": [
    {
     "name": "stdout",
     "output_type": "stream",
     "text": [
      "[2024/06/14 13:28:17] torchocr INFO: Initialize indexs of datasets: ['./dataset/icdar2015/text_localization/train_icdar2015_label.txt']\n"
     ]
    }
   ],
   "source": [
    "from data import build_dataloader\n",
    "from utils.logging import get_logger\n",
    "logger = get_logger()\n",
    "train_dataloader = build_dataloader(config, mode=\"Train\", logger=logger)"
   ]
  },
  {
   "cell_type": "code",
   "execution_count": 6,
   "metadata": {},
   "outputs": [
    {
     "data": {
      "text/plain": [
       "(3, 960, 960)"
      ]
     },
     "execution_count": 6,
     "metadata": {},
     "output_type": "execute_result"
    }
   ],
   "source": [
    "train_dataloader.dataset[0][0].shape"
   ]
  },
  {
   "cell_type": "code",
   "execution_count": null,
   "metadata": {},
   "outputs": [],
   "source": []
  }
 ],
 "metadata": {
  "kernelspec": {
   "display_name": "torch-ocr",
   "language": "python",
   "name": "python3"
  },
  "language_info": {
   "codemirror_mode": {
    "name": "ipython",
    "version": 3
   },
   "file_extension": ".py",
   "mimetype": "text/x-python",
   "name": "python",
   "nbconvert_exporter": "python",
   "pygments_lexer": "ipython3",
   "version": "3.11.9"
  }
 },
 "nbformat": 4,
 "nbformat_minor": 2
}
