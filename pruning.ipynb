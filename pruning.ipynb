{
 "cells": [
  {
   "cell_type": "code",
   "execution_count": 1,
   "id": "3097c610-0607-40a9-bf20-36112b761cdb",
   "metadata": {},
   "outputs": [],
   "source": [
    "from vietocr.tool.config import Cfg\n",
    "from vietocr.model.trainer import Trainer\n",
    "from only_train_once import OTO\n",
    "\n",
    "import torch"
   ]
  },
  {
   "cell_type": "code",
   "execution_count": 2,
   "id": "e5f438ef-4ad4-46ca-981d-6a0a9e41469f",
   "metadata": {},
   "outputs": [],
   "source": [
    "config = Cfg.load_config_from_name(\"vgg_transformer\")\n",
    "config['cnn']['pretrained']=False\n",
    "config['device'] = 'cpu'\n",
    "config['dataloader']['num_workers'] = 0"
   ]
  },
  {
   "cell_type": "code",
   "execution_count": 3,
   "id": "5a0bafc0-791d-494b-8e25-af4f2a793a8b",
   "metadata": {},
   "outputs": [],
   "source": [
    "dataset_params = {\n",
    "    'name':'hw',\n",
    "    'data_root':'./data_line/',\n",
    "    'train_annotation':'train_line_annotation.txt',\n",
    "    'valid_annotation':'test_line_annotation.txt'\n",
    "}\n",
    "config['dataset'].update(dataset_params)"
   ]
  },
  {
   "cell_type": "code",
   "execution_count": 4,
   "id": "0b90b6ac-28da-479f-9898-be44cfb6201c",
   "metadata": {},
   "outputs": [
    {
     "name": "stdout",
     "output_type": "stream",
     "text": [
      "Model weight /var/folders/4v/kdcdc5f15vvd8rvc67_8y6p80000gn/T/vgg_transformer.pth exsits. Ignore download!\n",
      "train_hw exists. Remove folder if you want to create new dataset\n"
     ]
    },
    {
     "name": "stderr",
     "output_type": "stream",
     "text": [
      "/Users/lihardingnguyen/.miniconda3/envs/ai-env/lib/python3.11/site-packages/torch/nn/modules/transformer.py:306: UserWarning: enable_nested_tensor is True, but self.use_nested_tensor is False because encoder_layer.self_attn.batch_first was not True(use batch_first for better inference performance)\n",
      "  warnings.warn(f\"enable_nested_tensor is True, but self.use_nested_tensor is False because {why_not_sparsity_fast_path}\")\n",
      "train_hw build cluster: 100%|███████████████████████████████| 5482/5482 [00:00<00:00, 235564.08it/s]"
     ]
    },
    {
     "name": "stdout",
     "output_type": "stream",
     "text": [
      "valid_hw exists. Remove folder if you want to create new dataset\n"
     ]
    },
    {
     "name": "stderr",
     "output_type": "stream",
     "text": [
      "\n",
      "valid_hw build cluster: 100%|███████████████████████████████| 1812/1812 [00:00<00:00, 158252.55it/s]\n"
     ]
    }
   ],
   "source": [
    "trainer = Trainer(config=config)"
   ]
  },
  {
   "cell_type": "code",
   "execution_count": 5,
   "id": "29b96396-37b6-4c1e-aefe-f0625d4e0e68",
   "metadata": {},
   "outputs": [
    {
     "data": {
      "text/plain": [
       "172"
      ]
     },
     "execution_count": 5,
     "metadata": {},
     "output_type": "execute_result"
    }
   ],
   "source": [
    "len(trainer.train_gen)"
   ]
  },
  {
   "cell_type": "code",
   "execution_count": 35,
   "id": "28797ddf-b36e-4afa-95c9-e484dcca917d",
   "metadata": {},
   "outputs": [],
   "source": [
    "dummy_input = torch.randn(32,3, 32, 300)"
   ]
  },
  {
   "cell_type": "code",
   "execution_count": 36,
   "id": "8e1b63d4-feea-4a93-b8c2-5ddb61fe929d",
   "metadata": {},
   "outputs": [
    {
     "name": "stdout",
     "output_type": "stream",
     "text": [
      "OTO graph constructor\n",
      "graph build\n"
     ]
    }
   ],
   "source": [
    "oto = OTO(model=trainer.model.cnn, dummy_input=dummy_input, strict_out_nodes=True)"
   ]
  },
  {
   "cell_type": "code",
   "execution_count": 38,
   "id": "2b75ab71-d749-4b26-a3d1-8267d28e3b63",
   "metadata": {},
   "outputs": [
    {
     "name": "stdout",
     "output_type": "stream",
     "text": [
      "Setup HESSO\n",
      "Target redundant groups per period:  [385, 385, 385, 385, 385, 385, 385, 385, 385, 387]\n"
     ]
    }
   ],
   "source": [
    "trainer.optimizer = oto.hesso(variant='adamw', lr=1e-5,weight_decay=1e-4,\n",
    "    target_group_sparsity=0.7,\n",
    "    start_pruning_step=10 * len(trainer.train_gen), \n",
    "    pruning_periods=10,\n",
    "    pruning_steps=10 * len(trainer.train_gen))"
   ]
  },
  {
   "cell_type": "code",
   "execution_count": null,
   "id": "2bc94579-bd03-4104-8c02-a90b5e21d601",
   "metadata": {},
   "outputs": [],
   "source": [
    "trainer.train()"
   ]
  },
  {
   "cell_type": "code",
   "execution_count": null,
   "id": "17a45265-4073-4512-9737-d2461c0dd92a",
   "metadata": {},
   "outputs": [],
   "source": []
  }
 ],
 "metadata": {
  "kernelspec": {
   "display_name": "Python [conda env:ai-env] *",
   "language": "python",
   "name": "conda-env-ai-env-py"
  },
  "language_info": {
   "codemirror_mode": {
    "name": "ipython",
    "version": 3
   },
   "file_extension": ".py",
   "mimetype": "text/x-python",
   "name": "python",
   "nbconvert_exporter": "python",
   "pygments_lexer": "ipython3",
   "version": "3.11.9"
  }
 },
 "nbformat": 4,
 "nbformat_minor": 5
}
